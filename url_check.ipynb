{
 "cells": [
  {
   "cell_type": "code",
   "execution_count": 42,
   "metadata": {},
   "outputs": [
    {
     "name": "stdout",
     "output_type": "stream",
     "text": [
      "Collecting PyMuPDF\n",
      "  Obtaining dependency information for PyMuPDF from https://files.pythonhosted.org/packages/f6/26/f890297cbd5e7f51bf912cd8149fc21f6930d3559a24f7be3d8cd77d8933/PyMuPDF-1.24.10-cp38-none-macosx_11_0_arm64.whl.metadata\n",
      "  Downloading PyMuPDF-1.24.10-cp38-none-macosx_11_0_arm64.whl.metadata (3.4 kB)\n",
      "Collecting PyMuPDFb==1.24.10 (from PyMuPDF)\n",
      "  Obtaining dependency information for PyMuPDFb==1.24.10 from https://files.pythonhosted.org/packages/16/7a/f634c76d8331cb8dedcfaced17424cc469ee20b7f53cf29c9ef17a01b461/PyMuPDFb-1.24.10-py3-none-macosx_11_0_arm64.whl.metadata\n",
      "  Downloading PyMuPDFb-1.24.10-py3-none-macosx_11_0_arm64.whl.metadata (1.4 kB)\n",
      "Downloading PyMuPDF-1.24.10-cp38-none-macosx_11_0_arm64.whl (3.0 MB)\n",
      "\u001b[2K   \u001b[90m━━━━━━━━━━━━━━━━━━━━━━━━━━━━━━━━━━━━━━━━\u001b[0m \u001b[32m3.0/3.0 MB\u001b[0m \u001b[31m13.0 MB/s\u001b[0m eta \u001b[36m0:00:00\u001b[0ma \u001b[36m0:00:01\u001b[0m\n",
      "\u001b[?25hDownloading PyMuPDFb-1.24.10-py3-none-macosx_11_0_arm64.whl (15.1 MB)\n",
      "\u001b[2K   \u001b[90m━━━━━━━━━━━━━━━━━━━━━━━━━━━━━━━━━━━━━━━━\u001b[0m \u001b[32m15.1/15.1 MB\u001b[0m \u001b[31m36.4 MB/s\u001b[0m eta \u001b[36m0:00:00\u001b[0m00:01\u001b[0m00:01\u001b[0m\n",
      "\u001b[?25hInstalling collected packages: PyMuPDFb, PyMuPDF\n",
      "Successfully installed PyMuPDF-1.24.10 PyMuPDFb-1.24.10\n"
     ]
    }
   ],
   "source": [
    "!pip install PyMuPDF"
   ]
  },
  {
   "cell_type": "code",
   "execution_count": 29,
   "metadata": {},
   "outputs": [],
   "source": [
    "#############\n",
    "# LIBRARIES #\n",
    "#############\n",
    "\n",
    "import pandas as pd\n",
    "\n",
    "import docx\n",
    "from docx.opc.constants import RELATIONSHIP_TYPE as RT\n",
    "\n",
    "import requests\n",
    "from selenium import webdriver\n",
    "from selenium.webdriver.chrome.options import Options\n",
    "from selenium.webdriver.chrome.service import Service\n",
    "from webdriver_manager.chrome import ChromeDriverManager\n",
    "import os\n",
    "import time"
   ]
  },
  {
   "cell_type": "code",
   "execution_count": 30,
   "metadata": {},
   "outputs": [
    {
     "name": "stdout",
     "output_type": "stream",
     "text": [
      "https://www.grants.gov/learn-grants/grants-101/the-grant-lifecycle\n"
     ]
    }
   ],
   "source": [
    "# readi_resources_doc_path = '/Users/rogerlefort/Library/CloudStorage/OneDrive-Personal/Documents/New_ReaDI_Page_Layout.docx'\n",
    "test_page = 'test_page.docx'\n",
    "\n",
    "def extract_hyperlinks(docx_file):\n",
    "    doc = docx.Document(docx_file)\n",
    "    rels = doc.part.rels\n",
    "    hyperlinks = []\n",
    "\n",
    "    for rel in rels:\n",
    "        if rels[rel].reltype == RT.HYPERLINK:\n",
    "            hyperlinks.append(rels[rel]._target)\n",
    "\n",
    "    return hyperlinks\n",
    "\n",
    "links = extract_hyperlinks(test_page)\n",
    "for link in links:\n",
    "    print(link)"
   ]
  },
  {
   "cell_type": "code",
   "execution_count": 31,
   "metadata": {},
   "outputs": [
    {
     "name": "stdout",
     "output_type": "stream",
     "text": [
      "https://www.grants.gov/learn-grants/grants-101/the-grant-lifecycle\n"
     ]
    }
   ],
   "source": [
    "# Function to check if a URL is valid\n",
    "def is_valid_url(url):\n",
    "    try:\n",
    "        response = requests.head(url, allow_redirects=True)\n",
    "        return response.status_code == 200\n",
    "    except requests.RequestException:\n",
    "        return False\n",
    "\n",
    "# Check if each link is valid\n",
    "valid_links = [link for link in links if is_valid_url(link)]\n",
    "\n",
    "# Print the valid links\n",
    "for link in valid_links:\n",
    "    print(link)"
   ]
  },
  {
   "cell_type": "code",
   "execution_count": 38,
   "metadata": {},
   "outputs": [
    {
     "name": "stdout",
     "output_type": "stream",
     "text": [
      "Link: https://www.grants.gov/learn-grants/grants-101/the-grant-lifecycle\n",
      "Status Code: 200\n",
      "Content Returned: True\n",
      "Screenshot: output/screenshot_0.png\n",
      "\n"
     ]
    }
   ],
   "source": [
    "def analyze_links_with_screenshots(links, screenshot_dir):\n",
    "    results = []\n",
    "    \n",
    "    # Set up headless Chrome\n",
    "    chrome_options = Options()\n",
    "    chrome_options.add_argument(\"--headless\")\n",
    "    chrome_options.add_argument(\"--window-size=1920,1080\")\n",
    "    driver = webdriver.Chrome(service=Service(ChromeDriverManager().install()), options=chrome_options)\n",
    "\n",
    "    for i, link in enumerate(links):\n",
    "        try:\n",
    "            # Check if the link returns content\n",
    "            response = requests.get(link, timeout=10)\n",
    "            status_code = response.status_code\n",
    "            content_returned = len(response.content) > 0\n",
    "\n",
    "            # Capture screenshot\n",
    "            driver.get(link)\n",
    "            time.sleep(5)  # Wait for page to load\n",
    "            screenshot_path = os.path.join(screenshot_dir, f\"screenshot_{i}.png\")\n",
    "            driver.save_screenshot(screenshot_path)\n",
    "\n",
    "            results.append({\n",
    "                \"link\": link,\n",
    "                \"status_code\": status_code,\n",
    "                \"content_returned\": content_returned,\n",
    "                \"screenshot_path\": screenshot_path\n",
    "            })\n",
    "        except Exception as e:\n",
    "            results.append({\n",
    "                \"link\": link,\n",
    "                \"error\": str(e)\n",
    "            })\n",
    "\n",
    "    driver.quit()\n",
    "    return results\n",
    "\n",
    "# Example usage\n",
    "links = extract_hyperlinks(\"test_page.docx\")\n",
    "screenshot_dir = \"output\"\n",
    "os.makedirs(screenshot_dir, exist_ok=True)\n",
    "analysis_results = analyze_links_with_screenshots(links, screenshot_dir)\n",
    "\n",
    "for result in analysis_results:\n",
    "    print(f\"Link: {result['link']}\")\n",
    "    if 'error' in result:\n",
    "        print(f\"Error: {result['error']}\")\n",
    "    else:\n",
    "        print(f\"Status Code: {result['status_code']}\")\n",
    "        print(f\"Content Returned: {result['content_returned']}\")\n",
    "        print(f\"Screenshot: {result['screenshot_path']}\")\n",
    "    # Create a dataframe with the results\n",
    "    df = pd.DataFrame(analysis_results)\n",
    "    # Save the dataframe to a csv file\n",
    "    df.to_csv(\"analysis_results.csv\", index=False)\n",
    "    print()"
   ]
  },
  {
   "cell_type": "code",
   "execution_count": 46,
   "metadata": {},
   "outputs": [],
   "source": [
    "import fitz  # PyMuPDF\n",
    "import re\n",
    "\n",
    "def extract_hyperlinks_directly(pdf_file_path):\n",
    "    hyperlinks = []\n",
    "    pdf_document = fitz.open(pdf_file_path)\n",
    "    \n",
    "    # Regular expression pattern to match URLs\n",
    "    url_pattern = re.compile(r'https?://[^\\s]+')\n",
    "    \n",
    "    for page_num in range(pdf_document.page_count):\n",
    "        page = pdf_document[page_num]\n",
    "        text = page.get_text(\"text\")  # Extract the text from the page\n",
    "        links = re.findall(url_pattern, text)  # Find all URLs in the text\n",
    "        hyperlinks.extend(links)\n",
    "    \n",
    "    return hyperlinks\n",
    "\n",
    "# Path to your PDF file\n",
    "pdf_file_path = \"test_page.pdf\"\n",
    "\n",
    "# Extract hyperlinks\n",
    "extracted_hyperlinks = extract_hyperlinks_directly(pdf_file_path)\n",
    "\n",
    "# Print the extracted hyperlinks\n",
    "for hyperlink in extracted_hyperlinks:\n",
    "    print(hyperlink)\n"
   ]
  },
  {
   "cell_type": "code",
   "execution_count": 47,
   "metadata": {},
   "outputs": [
    {
     "data": {
      "text/plain": [
       "[]"
      ]
     },
     "execution_count": 47,
     "metadata": {},
     "output_type": "execute_result"
    }
   ],
   "source": [
    "extracted_hyperlinks"
   ]
  },
  {
   "cell_type": "code",
   "execution_count": null,
   "metadata": {},
   "outputs": [],
   "source": []
  }
 ],
 "metadata": {
  "kernelspec": {
   "display_name": "Python 3",
   "language": "python",
   "name": "python3"
  },
  "language_info": {
   "codemirror_mode": {
    "name": "ipython",
    "version": 3
   },
   "file_extension": ".py",
   "mimetype": "text/x-python",
   "name": "python",
   "nbconvert_exporter": "python",
   "pygments_lexer": "ipython3",
   "version": "3.8.13"
  }
 },
 "nbformat": 4,
 "nbformat_minor": 2
}
